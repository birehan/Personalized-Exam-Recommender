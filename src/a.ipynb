{
 "cells": [
  {
   "cell_type": "markdown",
   "metadata": {},
   "source": [
    "### Recommendation"
   ]
  },
  {
   "cell_type": "code",
   "execution_count": 1,
   "metadata": {},
   "outputs": [],
   "source": [
    "from recommendation.questions_recommender import get_data, collaborative_filtering, content_based_filtering, hybrid_recommendation\n",
    "from collaborative_filtering import collaborative_filter"
   ]
  },
  {
   "cell_type": "code",
   "execution_count": 2,
   "metadata": {},
   "outputs": [],
   "source": [
    "data = get_data()\n",
    "user_id = \"6538d9e548753d97e4ea23ce\""
   ]
  },
  {
   "cell_type": "code",
   "execution_count": 6,
   "metadata": {},
   "outputs": [
    {
     "data": {
      "text/plain": [
       "subject    \n",
       "NaN            7478\n",
       "Biology         956\n",
       "English         862\n",
       "Chemistry       642\n",
       "SAT             588\n",
       "Mathematics     556\n",
       "Physics         414\n",
       "Geography       216\n",
       "History          63\n",
       "Economics        40\n",
       "Name: count, dtype: int64"
      ]
     },
     "execution_count": 6,
     "metadata": {},
     "output_type": "execute_result"
    }
   ],
   "source": [
    "data[[\"subject\"]].value_counts(dropna=False)"
   ]
  },
  {
   "cell_type": "code",
   "execution_count": 3,
   "metadata": {},
   "outputs": [],
   "source": [
    "result = collaborative_filter(user_id, \"Biology\", data)"
   ]
  },
  {
   "cell_type": "code",
   "execution_count": 7,
   "metadata": {},
   "outputs": [
    {
     "data": {
      "text/plain": [
       "Index(['65bb4618f7f7405c3317e3c2', '65bb4618f7f7405c3317e35f',\n",
       "       '65bb4618f7f7405c3317e325', '65bb4618f7f7405c3317e188',\n",
       "       '65bb4618f7f7405c3317e206', '65bb4618f7f7405c3317e36c',\n",
       "       '65bb4618f7f7405c3317e1b8', '65bb4618f7f7405c3317e18c',\n",
       "       '65bb4618f7f7405c3317e18f', '65bb4618f7f7405c3317e22b',\n",
       "       '65bb4618f7f7405c3317e231', '65bb4618f7f7405c3317e3bf',\n",
       "       '65bb4618f7f7405c3317e2b7', '65bb4618f7f7405c3317e2de',\n",
       "       '65bb4618f7f7405c3317e190', '65bb4618f7f7405c3317e191',\n",
       "       '65bb4618f7f7405c3317e15d', '65bb4618f7f7405c3317e15b',\n",
       "       '65bb4618f7f7405c3317e192', '65bb4618f7f7405c3317e377',\n",
       "       '65bb4618f7f7405c3317e384', '65bb4618f7f7405c3317e3a9',\n",
       "       '65bb4618f7f7405c3317e15c', '65bb4618f7f7405c3317e129',\n",
       "       '65bb4618f7f7405c3317e128', '65bb4618f7f7405c3317e127',\n",
       "       '65bb4618f7f7405c3317e1b6', '65bb4618f7f7405c3317e364',\n",
       "       '65bb4618f7f7405c3317e2c9', '65bb4618f7f7405c3317e32e',\n",
       "       '65bb4618f7f7405c3317e224', '65bb4618f7f7405c3317e251',\n",
       "       '65bb4618f7f7405c3317e12e', '65bb4618f7f7405c3317e132',\n",
       "       '65bb4618f7f7405c3317e223', '65bb4618f7f7405c3317e260',\n",
       "       '65bb4618f7f7405c3317e2e4', '65bb4618f7f7405c3317e256',\n",
       "       '65bb4618f7f7405c3317e302', '65bb4618f7f7405c3317e1e3',\n",
       "       '65bb4618f7f7405c3317e131', '65bb4618f7f7405c3317e11d',\n",
       "       '65bb4618f7f7405c3317e346', '65bb4618f7f7405c3317e133',\n",
       "       '65bb4618f7f7405c3317e134', '65bb4618f7f7405c3317e135',\n",
       "       '65bb4618f7f7405c3317e136', '65bb4618f7f7405c3317e137',\n",
       "       '65bb4618f7f7405c3317e138', '65bb4618f7f7405c3317e12c',\n",
       "       '65bb4618f7f7405c3317e3cf', '65bb4618f7f7405c3317e217',\n",
       "       '65bb4618f7f7405c3317e3e7', '65bb4618f7f7405c3317e3f4',\n",
       "       '65bb4618f7f7405c3317e409', '65bb4618f7f7405c3317e40f',\n",
       "       '65bb4618f7f7405c3317e1cc', '65bb4618f7f7405c3317e1bb',\n",
       "       '65bb4618f7f7405c3317e3c0', '65bb4618f7f7405c3317e26f',\n",
       "       '65bb4618f7f7405c3317e2c4', '65bb4618f7f7405c3317e3c1',\n",
       "       '65bb4618f7f7405c3317e2e9', '65bb4618f7f7405c3317e2eb',\n",
       "       '65bb4618f7f7405c3317e2ff', '65bb4618f7f7405c3317e324',\n",
       "       '65bb4618f7f7405c3317e372', '65bb4618f7f7405c3317e394',\n",
       "       '65bb4618f7f7405c3317e395', '65bb4618f7f7405c3317e397',\n",
       "       '65bb4618f7f7405c3317e39c', '65bb4618f7f7405c3317e39e',\n",
       "       '65bb4618f7f7405c3317e2e1', '663ddad9282a65a63d810cfe',\n",
       "       '65bb4618f7f7405c3317e158', '65bb4618f7f7405c3317e165',\n",
       "       '65bb4618f7f7405c3317e2c2', '65bb4618f7f7405c3317e2b0',\n",
       "       '65bb4618f7f7405c3317e2b1', '65bb4618f7f7405c3317e2b2',\n",
       "       '65bb4618f7f7405c3317e20a', '65bb4618f7f7405c3317e2b4',\n",
       "       '65bb4618f7f7405c3317e378', '65bb4618f7f7405c3317e2c1',\n",
       "       '65bb4618f7f7405c3317e2c3', '65bb4618f7f7405c3317e390',\n",
       "       '65bb4618f7f7405c3317e370', '65bb4618f7f7405c3317e1fc',\n",
       "       '65bb4618f7f7405c3317e151', '65bb4618f7f7405c3317e1f4',\n",
       "       '65bb4618f7f7405c3317e25d', '65bb4618f7f7405c3317e3f2',\n",
       "       '65bb4618f7f7405c3317e369', '65bb4618f7f7405c3317e385',\n",
       "       '65bb4618f7f7405c3317e2dc', '65bb4618f7f7405c3317e3f7',\n",
       "       '65bb4618f7f7405c3317e226', '65bb4618f7f7405c3317e25e',\n",
       "       '65bb4618f7f7405c3317e25f', '65bb4618f7f7405c3317e171'],\n",
       "      dtype='object', name='questionId')"
      ]
     },
     "execution_count": 7,
     "metadata": {},
     "output_type": "execute_result"
    }
   ],
   "source": [
    "result"
   ]
  }
 ],
 "metadata": {
  "kernelspec": {
   "display_name": "week10",
   "language": "python",
   "name": "python3"
  },
  "language_info": {
   "codemirror_mode": {
    "name": "ipython",
    "version": 3
   },
   "file_extension": ".py",
   "mimetype": "text/x-python",
   "name": "python",
   "nbconvert_exporter": "python",
   "pygments_lexer": "ipython3",
   "version": "3.8.2"
  }
 },
 "nbformat": 4,
 "nbformat_minor": 2
}
