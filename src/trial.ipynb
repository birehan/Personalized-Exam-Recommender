{
 "cells": [
  {
   "cell_type": "code",
   "execution_count": 1,
   "metadata": {},
   "outputs": [],
   "source": [
    "from recommendation.questions_recommender import get_recommendations"
   ]
  },
  {
   "cell_type": "code",
   "execution_count": null,
   "metadata": {},
   "outputs": [],
   "source": [
    "get_recommendations(\"6538d9e548753d97e4ea23ce\")"
   ]
  },
  {
   "cell_type": "markdown",
   "metadata": {},
   "source": [
    "### Difficulty level Prediction models"
   ]
  },
  {
   "cell_type": "code",
   "execution_count": null,
   "metadata": {},
   "outputs": [],
   "source": [
    "from openai import OpenAI\n",
    "import os\n",
    "\n",
    "client = OpenAI(os.getenv(\"OPENAI_API_KEY\"))\n",
    "\n",
    "response = client.chat.completions.create(\n",
    "  model=\"gpt-3.5-turbo\",\n",
    "  messages=[\n",
    "    {\"role\": \"system\", \"content\": \"You are a helpful assistant.\"},\n",
    "    {\"role\": \"user\", \"content\": \"Who won the world series in 2020?\"},\n",
    "    {\"role\": \"assistant\", \"content\": \"The Los Angeles Dodgers won the World Series in 2020.\"},\n",
    "    {\"role\": \"user\", \"content\": \"Where was it played?\"}\n",
    "  ]\n",
    ")"
   ]
  },
  {
   "cell_type": "code",
   "execution_count": 1,
   "metadata": {},
   "outputs": [
    {
     "name": "stderr",
     "output_type": "stream",
     "text": [
      "/home/babi/miniconda3/envs/week10/lib/python3.8/site-packages/numpy/core/fromnumeric.py:3432: RuntimeWarning: Mean of empty slice.\n",
      "  return _methods._mean(a, axis=axis, dtype=dtype,\n"
     ]
    }
   ],
   "source": [
    "from difficulty_level_predictor import QuestionDifficultyEstimator\n",
    "estimator = QuestionDifficultyEstimator('mongodb://localhost:27017/', 'exam_prep', 'questions')\n",
    "# result = estimator.estimate_question_difficulty()\n",
    "estimator.update_question_difficulty()"
   ]
  },
  {
   "cell_type": "code",
   "execution_count": 10,
   "metadata": {},
   "outputs": [
    {
     "name": "stderr",
     "output_type": "stream",
     "text": [
      "Fetching checkpoint: 1.05Mit [00:00, 4.48Git/s]                                                     \n",
      "Fetching encoder.json: 1.05Mit [00:02, 413kit/s]                                                    \n",
      "Fetching hparams.json: 1.05Mit [00:00, 4.51Git/s]                                                   \n",
      "Fetching model.ckpt.data-00000-of-00001: 498Mit [06:58, 1.19Mit/s]                                  \n",
      "Fetching model.ckpt.index: 1.05Mit [00:00, 2.14Git/s]                                               \n",
      "Fetching model.ckpt.meta: 1.05Mit [00:00, 1.10Mit/s]                                                \n",
      "Fetching vocab.bpe: 1.05Mit [00:00, 1.11Mit/s]                                                      \n"
     ]
    }
   ],
   "source": [
    "import gpt_2_simple as gpt2\n",
    "\n",
    "model_name = \"124M\"\n",
    "gpt2.download_gpt2(model_name=model_name)"
   ]
  },
  {
   "cell_type": "code",
   "execution_count": 4,
   "metadata": {},
   "outputs": [
    {
     "name": "stdout",
     "output_type": "stream",
     "text": [
      "Loading pretrained model models/124M/model.ckpt\n",
      "INFO:tensorflow:Restoring parameters from models/124M/model.ckpt\n",
      "for the given question description: Directions: The following words are not in the proper order. When put in the right order, they make correct English sentences. From the given alternatives, choose the one that is correct., choiceA: We have been looking for you all over., choiceB: We all have been looking over for you., choiceC: You have been looking, choiceD: All over you have been looking for we... return only a float value of difficulty level of the question from 0 to 1 using the option . Scale to nearest 0, then take up to two options. The minimum (or maximum) difficulty level of the question (1) depends on the answer problem (i.e., the answer question is an uncertain choice). A question\n"
     ]
    }
   ],
   "source": [
    "import gpt_2_simple as gpt2\n",
    "\n",
    "def generate_gpt2_response(prompt, model_name='124M', length=100, temperature=0.7):\n",
    "    sess = gpt2.start_tf_sess()\n",
    "    gpt2.load_gpt2(sess, model_name=model_name)\n",
    "    response = gpt2.generate(sess, model_name=model_name, prefix=prompt, length=length, temperature=temperature, return_as_list=True)[0]\n",
    "    gpt2.reset_session(sess)\n",
    "    return response\n",
    "\n",
    "# Example usage\n",
    "description = \"Directions: The following words are not in the proper order. When put in the right order, they make correct English sentences. From the given alternatives, choose the one that is correct.\"\n",
    "choiceA = \"We have been looking for you all over.\"\n",
    "choiceB = \"We all have been looking over for you.\"\n",
    "choiceC = \"You have been looking\"\n",
    "choiceD = \"All over you have been looking for we.\"\n",
    "\n",
    "prompt = f\"for the given question description: {description}, choiceA: {choiceA}, choiceB: {choiceB}, choiceC: {choiceC}, choiceD: {choiceD}.. return only a float value of difficulty level of the question from 0 to 1\"\n",
    "response = generate_gpt2_response(prompt, model_name='124M', length=50, temperature=0.7)\n",
    "print(response)"
   ]
  },
  {
   "cell_type": "code",
   "execution_count": 3,
   "metadata": {},
   "outputs": [
    {
     "name": "stdout",
     "output_type": "stream",
     "text": [
      "Collecting gpt-2-simple\n",
      "  Using cached gpt_2_simple-0.8.1.tar.gz (26 kB)\n",
      "  Preparing metadata (setup.py) ... \u001b[?25ldone\n",
      "\u001b[?25hRequirement already satisfied: tensorflow>=2.5.1 in /home/babi/miniconda3/envs/week10/lib/python3.8/site-packages (from gpt-2-simple) (2.13.1)\n",
      "Requirement already satisfied: regex in /home/babi/miniconda3/envs/week10/lib/python3.8/site-packages (from gpt-2-simple) (2023.12.25)\n",
      "Requirement already satisfied: requests in /home/babi/miniconda3/envs/week10/lib/python3.8/site-packages (from gpt-2-simple) (2.31.0)\n",
      "Requirement already satisfied: tqdm in /home/babi/miniconda3/envs/week10/lib/python3.8/site-packages (from gpt-2-simple) (4.66.1)\n",
      "Requirement already satisfied: numpy in /home/babi/miniconda3/envs/week10/lib/python3.8/site-packages (from gpt-2-simple) (1.23.1)\n",
      "Collecting toposort (from gpt-2-simple)\n",
      "  Using cached toposort-1.10-py3-none-any.whl.metadata (4.1 kB)\n",
      "Requirement already satisfied: absl-py>=1.0.0 in /home/babi/miniconda3/envs/week10/lib/python3.8/site-packages (from tensorflow>=2.5.1->gpt-2-simple) (1.4.0)\n",
      "Requirement already satisfied: astunparse>=1.6.0 in /home/babi/miniconda3/envs/week10/lib/python3.8/site-packages (from tensorflow>=2.5.1->gpt-2-simple) (1.6.3)\n",
      "Requirement already satisfied: flatbuffers>=23.1.21 in /home/babi/miniconda3/envs/week10/lib/python3.8/site-packages (from tensorflow>=2.5.1->gpt-2-simple) (23.5.26)\n",
      "Requirement already satisfied: gast<=0.4.0,>=0.2.1 in /home/babi/miniconda3/envs/week10/lib/python3.8/site-packages (from tensorflow>=2.5.1->gpt-2-simple) (0.4.0)\n",
      "Requirement already satisfied: google-pasta>=0.1.1 in /home/babi/miniconda3/envs/week10/lib/python3.8/site-packages (from tensorflow>=2.5.1->gpt-2-simple) (0.2.0)\n",
      "Requirement already satisfied: grpcio<2.0,>=1.24.3 in /home/babi/miniconda3/envs/week10/lib/python3.8/site-packages (from tensorflow>=2.5.1->gpt-2-simple) (1.56.0)\n",
      "Requirement already satisfied: h5py>=2.9.0 in /home/babi/miniconda3/envs/week10/lib/python3.8/site-packages (from tensorflow>=2.5.1->gpt-2-simple) (3.10.0)\n",
      "Requirement already satisfied: keras<2.14,>=2.13.1 in /home/babi/miniconda3/envs/week10/lib/python3.8/site-packages (from tensorflow>=2.5.1->gpt-2-simple) (2.13.1)\n",
      "Requirement already satisfied: libclang>=13.0.0 in /home/babi/miniconda3/envs/week10/lib/python3.8/site-packages (from tensorflow>=2.5.1->gpt-2-simple) (16.0.6)\n",
      "Requirement already satisfied: opt-einsum>=2.3.2 in /home/babi/miniconda3/envs/week10/lib/python3.8/site-packages (from tensorflow>=2.5.1->gpt-2-simple) (3.3.0)\n",
      "Requirement already satisfied: packaging in /home/babi/miniconda3/envs/week10/lib/python3.8/site-packages (from tensorflow>=2.5.1->gpt-2-simple) (23.2)\n",
      "Collecting protobuf!=4.21.0,!=4.21.1,!=4.21.2,!=4.21.3,!=4.21.4,!=4.21.5,<5.0.0dev,>=3.20.3 (from tensorflow>=2.5.1->gpt-2-simple)\n",
      "  Using cached protobuf-4.25.3-cp37-abi3-manylinux2014_x86_64.whl.metadata (541 bytes)\n",
      "Requirement already satisfied: setuptools in /home/babi/miniconda3/envs/week10/lib/python3.8/site-packages (from tensorflow>=2.5.1->gpt-2-simple) (68.2.2)\n",
      "Requirement already satisfied: six>=1.12.0 in /home/babi/miniconda3/envs/week10/lib/python3.8/site-packages (from tensorflow>=2.5.1->gpt-2-simple) (1.12.0)\n",
      "Requirement already satisfied: tensorboard<2.14,>=2.13 in /home/babi/miniconda3/envs/week10/lib/python3.8/site-packages (from tensorflow>=2.5.1->gpt-2-simple) (2.13.0)\n",
      "Requirement already satisfied: tensorflow-estimator<2.14,>=2.13.0 in /home/babi/miniconda3/envs/week10/lib/python3.8/site-packages (from tensorflow>=2.5.1->gpt-2-simple) (2.13.0)\n",
      "Requirement already satisfied: termcolor>=1.1.0 in /home/babi/miniconda3/envs/week10/lib/python3.8/site-packages (from tensorflow>=2.5.1->gpt-2-simple) (2.4.0)\n",
      "Collecting typing-extensions<4.6.0,>=3.6.6 (from tensorflow>=2.5.1->gpt-2-simple)\n",
      "  Using cached typing_extensions-4.5.0-py3-none-any.whl.metadata (8.5 kB)\n",
      "Requirement already satisfied: wrapt>=1.11.0 in /home/babi/miniconda3/envs/week10/lib/python3.8/site-packages (from tensorflow>=2.5.1->gpt-2-simple) (1.16.0)\n",
      "Requirement already satisfied: tensorflow-io-gcs-filesystem>=0.23.1 in /home/babi/miniconda3/envs/week10/lib/python3.8/site-packages (from tensorflow>=2.5.1->gpt-2-simple) (0.34.0)\n",
      "Requirement already satisfied: charset-normalizer<4,>=2 in /home/babi/miniconda3/envs/week10/lib/python3.8/site-packages (from requests->gpt-2-simple) (3.3.2)\n",
      "Requirement already satisfied: idna<4,>=2.5 in /home/babi/miniconda3/envs/week10/lib/python3.8/site-packages (from requests->gpt-2-simple) (2.10)\n",
      "Requirement already satisfied: urllib3<3,>=1.21.1 in /home/babi/miniconda3/envs/week10/lib/python3.8/site-packages (from requests->gpt-2-simple) (1.26.18)\n",
      "Requirement already satisfied: certifi>=2017.4.17 in /home/babi/miniconda3/envs/week10/lib/python3.8/site-packages (from requests->gpt-2-simple) (2023.7.22)\n",
      "Requirement already satisfied: wheel<1.0,>=0.23.0 in /home/babi/miniconda3/envs/week10/lib/python3.8/site-packages (from astunparse>=1.6.0->tensorflow>=2.5.1->gpt-2-simple) (0.41.2)\n",
      "Requirement already satisfied: google-auth<3,>=1.6.3 in /home/babi/miniconda3/envs/week10/lib/python3.8/site-packages (from tensorboard<2.14,>=2.13->tensorflow>=2.5.1->gpt-2-simple) (2.28.0)\n",
      "Requirement already satisfied: google-auth-oauthlib<1.1,>=0.5 in /home/babi/miniconda3/envs/week10/lib/python3.8/site-packages (from tensorboard<2.14,>=2.13->tensorflow>=2.5.1->gpt-2-simple) (1.0.0)\n",
      "Requirement already satisfied: markdown>=2.6.8 in /home/babi/miniconda3/envs/week10/lib/python3.8/site-packages (from tensorboard<2.14,>=2.13->tensorflow>=2.5.1->gpt-2-simple) (3.5.2)\n",
      "Requirement already satisfied: tensorboard-data-server<0.8.0,>=0.7.0 in /home/babi/miniconda3/envs/week10/lib/python3.8/site-packages (from tensorboard<2.14,>=2.13->tensorflow>=2.5.1->gpt-2-simple) (0.7.2)\n",
      "Requirement already satisfied: werkzeug>=1.0.1 in /home/babi/miniconda3/envs/week10/lib/python3.8/site-packages (from tensorboard<2.14,>=2.13->tensorflow>=2.5.1->gpt-2-simple) (3.0.1)\n",
      "Requirement already satisfied: cachetools<6.0,>=2.0.0 in /home/babi/miniconda3/envs/week10/lib/python3.8/site-packages (from google-auth<3,>=1.6.3->tensorboard<2.14,>=2.13->tensorflow>=2.5.1->gpt-2-simple) (5.3.2)\n",
      "Requirement already satisfied: pyasn1-modules>=0.2.1 in /home/babi/miniconda3/envs/week10/lib/python3.8/site-packages (from google-auth<3,>=1.6.3->tensorboard<2.14,>=2.13->tensorflow>=2.5.1->gpt-2-simple) (0.3.0)\n",
      "Requirement already satisfied: rsa<5,>=3.1.4 in /home/babi/miniconda3/envs/week10/lib/python3.8/site-packages (from google-auth<3,>=1.6.3->tensorboard<2.14,>=2.13->tensorflow>=2.5.1->gpt-2-simple) (4.9)\n",
      "Requirement already satisfied: requests-oauthlib>=0.7.0 in /home/babi/miniconda3/envs/week10/lib/python3.8/site-packages (from google-auth-oauthlib<1.1,>=0.5->tensorboard<2.14,>=2.13->tensorflow>=2.5.1->gpt-2-simple) (1.3.1)\n",
      "Requirement already satisfied: importlib-metadata>=4.4 in /home/babi/miniconda3/envs/week10/lib/python3.8/site-packages (from markdown>=2.6.8->tensorboard<2.14,>=2.13->tensorflow>=2.5.1->gpt-2-simple) (6.11.0)\n",
      "Requirement already satisfied: MarkupSafe>=2.1.1 in /home/babi/miniconda3/envs/week10/lib/python3.8/site-packages (from werkzeug>=1.0.1->tensorboard<2.14,>=2.13->tensorflow>=2.5.1->gpt-2-simple) (2.1.5)\n",
      "Requirement already satisfied: zipp>=0.5 in /home/babi/miniconda3/envs/week10/lib/python3.8/site-packages (from importlib-metadata>=4.4->markdown>=2.6.8->tensorboard<2.14,>=2.13->tensorflow>=2.5.1->gpt-2-simple) (3.17.0)\n",
      "Requirement already satisfied: pyasn1<0.6.0,>=0.4.6 in /home/babi/miniconda3/envs/week10/lib/python3.8/site-packages (from pyasn1-modules>=0.2.1->google-auth<3,>=1.6.3->tensorboard<2.14,>=2.13->tensorflow>=2.5.1->gpt-2-simple) (0.5.1)\n",
      "Requirement already satisfied: oauthlib>=3.0.0 in /home/babi/miniconda3/envs/week10/lib/python3.8/site-packages (from requests-oauthlib>=0.7.0->google-auth-oauthlib<1.1,>=0.5->tensorboard<2.14,>=2.13->tensorflow>=2.5.1->gpt-2-simple) (3.2.2)\n",
      "Using cached toposort-1.10-py3-none-any.whl (8.5 kB)\n",
      "Using cached protobuf-4.25.3-cp37-abi3-manylinux2014_x86_64.whl (294 kB)\n",
      "Using cached typing_extensions-4.5.0-py3-none-any.whl (27 kB)\n",
      "Building wheels for collected packages: gpt-2-simple\n",
      "  Building wheel for gpt-2-simple (setup.py) ... \u001b[?25ldone\n",
      "\u001b[?25h  Created wheel for gpt-2-simple: filename=gpt_2_simple-0.8.1-py3-none-any.whl size=24557 sha256=00e4e2672b797e400503ea05e43e1c1cbe91f58d2a9152bfa87f96070ab65c87\n",
      "  Stored in directory: /home/babi/.cache/pip/wheels/d0/74/e6/92bfd7a4a0e9358f786896f3d77d6e85ba488b1aff51d1ea2e\n",
      "Successfully built gpt-2-simple\n",
      "Installing collected packages: toposort, typing-extensions, protobuf, gpt-2-simple\n",
      "  Attempting uninstall: typing-extensions\n",
      "    Found existing installation: typing_extensions 4.11.0\n",
      "    Uninstalling typing_extensions-4.11.0:\n",
      "      Successfully uninstalled typing_extensions-4.11.0\n",
      "  Attempting uninstall: protobuf\n",
      "    Found existing installation: protobuf 3.20.2\n",
      "    Uninstalling protobuf-3.20.2:\n",
      "      Successfully uninstalled protobuf-3.20.2\n",
      "\u001b[31mERROR: pip's dependency resolver does not currently take into account all the packages that are installed. This behaviour is the source of the following dependency conflicts.\n",
      "sqlalchemy 2.0.27 requires typing-extensions>=4.6.0, but you have typing-extensions 4.5.0 which is incompatible.\n",
      "azure-core 1.30.1 requires typing-extensions>=4.6.0, but you have typing-extensions 4.5.0 which is incompatible.\n",
      "azure-storage-blob 12.20.0 requires typing-extensions>=4.6.0, but you have typing-extensions 4.5.0 which is incompatible.\n",
      "chromadb 0.4.23 requires grpcio>=1.58.0, but you have grpcio 1.56.0 which is incompatible.\n",
      "fastapi 0.109.2 requires typing-extensions>=4.8.0, but you have typing-extensions 4.5.0 which is incompatible.\n",
      "grpcio-health-checking 1.62.0 requires grpcio>=1.62.0, but you have grpcio 1.56.0 which is incompatible.\n",
      "grpcio-tools 1.62.0 requires grpcio>=1.62.0, but you have grpcio 1.56.0 which is incompatible.\n",
      "milvus-model 0.2.2 requires protobuf==3.20.2, but you have protobuf 4.25.3 which is incompatible.\n",
      "openai 1.6.1 requires typing-extensions<5,>=4.7, but you have typing-extensions 4.5.0 which is incompatible.\n",
      "pydantic 2.6.4 requires typing-extensions>=4.6.1, but you have typing-extensions 4.5.0 which is incompatible.\n",
      "pydantic-core 2.16.3 requires typing-extensions!=4.7.0,>=4.6.0, but you have typing-extensions 4.5.0 which is incompatible.\n",
      "sentence-transformers 2.3.1 requires torch>=1.11.0, but you have torch 1.8.1 which is incompatible.\n",
      "tensorflow-metadata 1.14.0 requires protobuf<4.21,>=3.20.3, but you have protobuf 4.25.3 which is incompatible.\n",
      "weaviate-client 4.5.4 requires grpcio<2.0.0,>=1.57.0, but you have grpcio 1.56.0 which is incompatible.\u001b[0m\u001b[31m\n",
      "\u001b[0mSuccessfully installed gpt-2-simple-0.8.1 protobuf-4.25.3 toposort-1.10 typing-extensions-4.5.0\n"
     ]
    }
   ],
   "source": [
    "# !pip install gpt-2-simple"
   ]
  }
 ],
 "metadata": {
  "kernelspec": {
   "display_name": "week10",
   "language": "python",
   "name": "python3"
  },
  "language_info": {
   "codemirror_mode": {
    "name": "ipython",
    "version": 3
   },
   "file_extension": ".py",
   "mimetype": "text/x-python",
   "name": "python",
   "nbconvert_exporter": "python",
   "pygments_lexer": "ipython3",
   "version": "3.8.2"
  }
 },
 "nbformat": 4,
 "nbformat_minor": 2
}
